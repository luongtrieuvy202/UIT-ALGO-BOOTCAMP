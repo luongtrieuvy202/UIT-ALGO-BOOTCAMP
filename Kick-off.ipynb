{
  "nbformat": 4,
  "nbformat_minor": 0,
  "metadata": {
    "colab": {
      "name": "Untitled1.ipynb",
      "provenance": [],
      "collapsed_sections": []
    },
    "kernelspec": {
      "name": "python3",
      "display_name": "Python 3"
    },
    "language_info": {
      "name": "python"
    }
  },
  "cells": [
    {
      "cell_type": "markdown",
      "metadata": {
        "id": "2GQL2cOyLaTL"
      },
      "source": [
        ""
      ]
    },
    {
      "cell_type": "markdown",
      "metadata": {
        "id": "7Pc0UAuxLhox"
      },
      "source": [
        "**Bài 1: Hidden Words**: \n",
        "\n",
        "Cho ma trận nxm, mỗi ô chứa 1 chữ cái từ a đến z. Yêu cầu tìm kiếm trên từng hàng và từng cột những ô liên tiếp nối với nhau mà tạo thành từ có nghĩa.\n",
        "\n",
        "**Lời giải:**\n"
      ]
    },
    {
      "cell_type": "code",
      "metadata": {
        "id": "2Y7347qtw_0H"
      },
      "source": [
        "n, m, q = [int(i) for i in input().strip().split(' ')]\n",
        "a = [None] * n \n",
        "for i in range(n):\n",
        "    a[i] = input().strip()\n",
        "\n",
        "s = [set()] * 11 k\n",
        "for i in range(n):\n",
        "    for j in range(m):\n",
        "        for t in range(1, 11):\n",
        "            if (j + t - 1 < m):\n",
        "                s[t].add(a[i][j:j + t])\n",
        "            if (i + t - 1 < n):\n",
        "                s[t].add(\"\".join([a[i + x][j] for x in range(t)]))\n",
        "            \n",
        "for i in range(q):\n",
        "    key = input().strip()\n",
        "    if (key in s[len(key)]):\n",
        "        print('1', end=\"\")\n",
        "    else:\n",
        "        print('0', end=\"\")\n",
        "\n",
        "print()"
      ],
      "execution_count": null,
      "outputs": []
    },
    {
      "cell_type": "markdown",
      "metadata": {
        "id": "lkv2z8pihORM"
      },
      "source": [
        "**Bài 2 - True expression**\n",
        "\n",
        "Cho một dãy gồm N số từ 1 đến N và một số nguyên dương S. Yêu cầu thêm dấu \"+\" hoặc \"-\" trước mỗi số để biểu thức tạo bởi dãy số trên sau khi thêm dấu có giá trị là S.\n",
        "\n",
        "Tiếp cận 1\n",
        "\n",
        "Giả sử tất cả các số từ 1 đến N đều mang dấu \"+\". Như vậy biểu diễn được tổng T = N x (N + 1) / 2. Trong khi ta muốn nó biểu diễn là tổng S. Vậy, nếu S > T thì không tồn tại đáp án. Nếu S <= T thì ta cần gán dấu \"-\" cho một vài số. Khi gán dấu \"-\" cho số x bất kỳ từ 1 đến N, thì tổng T sẽ giảm T = T - 2 * x, và ta cần giảm đi T - S để biểu thức biểu diễn tổng S. Vậy nên tóm lại ta sẽ có biểu thức: T - S = 2 * x1 + 2 * x2 + ... + 2 * xp (với x1, x2, ..., xp là các số gán dấu \"-\"). Rút gọn biểu thức trên ta được (T - S) / 2 = (x1 + x2 + ... + xp), suy ra (T - S) % 2 = 0 thì mới tồn tại đáp án.\n",
        "\n",
        "Tiếp cận 2\n",
        "\n",
        "Từ nhận xét ở tiếp cận 1: (T - S) / 2 = (x1 + x2 + ... + xp). Ta chuyển bài toán về quy hoạch động cơ bản, đó là bài toán tìm dãy con có tổng bằng S. Chi tiết tham khảo tại: https://vnoi.info/wiki/algo/dp/basic-problems.md\n",
        "\n",
        "Độ phức tạp thuật toán ở đây ~ O(N.(T-S)).\n",
        "\n",
        "Tiếp cận 3\n",
        "\n",
        "Giả sử tồn tại đáp án. Ta có M = (T - S) / 2. Ta M:= M - i với i bắt đầu từ 1 đến N cho đến khi M <= 0 tại vị trí p nào đó (1 <= p <= N). Nếu M = 0 thì tìm được đáp án, ngược lại gọi x = -M, 1 <= x < p, vậy ta cần gán lại dấu \"+\" cho x thì M = 0, tìm được đáp án. Độ phức tạp O(n)"
      ]
    },
    {
      "cell_type": "code",
      "metadata": {
        "id": "r_aFuMdMxE_c"
      },
      "source": [
        "n , s = map(int , input().split())\n",
        "\n",
        "tong = (n*(n+1))//2\n",
        "\n",
        "if tong < s:\n",
        "\tprint(\"NO_SOLUTION\")\n",
        "elif (tong -s)%2 != 0:\n",
        "\tprint(\"NO_SOLUTION\")\n",
        "else :\n",
        "  \tx = (tong -s)//2\n",
        "    check[]\n",
        "    for i in range (n+1):\n",
        "      check.insert(1)\n",
        "    for i in range(n+1,1):\n",
        "      if x >= i :\n",
        "         x -= i\n",
        "         check[i] = 0\n",
        "    for i in range(n):\n",
        "      if check[i] == 1:\n",
        "        print('+')\n",
        "      else:\n",
        "        print('-')"
      ],
      "execution_count": null,
      "outputs": []
    },
    {
      "cell_type": "markdown",
      "metadata": {
        "id": "FIvqskitSWZA"
      },
      "source": [
        "Bài 3\n",
        "Tiếp cận 1\n",
        "\n",
        "Bài toán có 2 loại truy vấn, một là tăng giá trị trên đoạn, 2 là tìm những chỉ số thỏa mãn. Thử dùng vét cạn, mỗi truy vấn sẽ tốn độ phức tạp O(N) và tổng độ phức tạp là O(N x Q) ~O(6e10), không khả thi với bài toán.\n",
        "\n",
        "Tiếp cận 2\n",
        "\n",
        "Số lượng câu truy vấn Q không có gì để tối ưu, nên ở đây cần tối ưu độ phức tạp cho mỗi câu truy vấn. Gợi ý là cây Segment Tree với dữ liệu mỗi node của cây có lưu thêm set chỉ số là top bài hát được yêu thích. Chi tiết cây segment tree tại đây (trong bài toán áp dụng với cấu trúc dữ liệu set, mục 4) https://vnoi.info/wiki/algo/data-structures/segment-tree-extend.md\n",
        "\n",
        "Như vậy độ phức tạp mỗi truy vấn loại update hay get là ~O(K.log2(N).log2(K)). Ở đây mỗi node, set chỉ cần lưu tối đa 5 phần tử. Tổng độ phức tạp ~O(Q.log2(N).K.log2(K)). Có thể AC nếu cài đặt tối ưu.\n",
        "\n",
        "Tiếp cận 3\n",
        "\n",
        "Thay vì dùng set thì dùng vector với thao tác merge, độ phức tạp ~O(Q.log2(N).K). Trong C++, thao tác merge có thể tham khảo: https://www.cplusplus.com/reference/algorithm/merge/\n",
        "\n",
        "Một cach giải khác, hướng tiếp cận : https://cp-algorithms.com/data_structures/sqrt_decomposition.html"
      ]
    },
    {
      "cell_type": "code",
      "metadata": {
        "id": "XABje-uuSXAU"
      },
      "source": [
        "inp_ = input().strip().split()\n",
        "n = int(inp_[0])\n",
        "q = int(inp_[1])\n",
        "\n",
        "tree = [{()} for lp in range(50000 * 4 + 10)]\n",
        "lazy = [(0) for lp in range(50000 * 4 + 10)]\n",
        "\n",
        "\n",
        "def build(i, l, r):\n",
        "    if l == r:\n",
        "        tree[i].clear()\n",
        "        tree[i].add((0, l))\n",
        "        return\n",
        "\n",
        "    m = (l + r) >> 1\n",
        "\n",
        "    build(i << 1, l, m)\n",
        "    build(i << 1 | 1, m + 1, r)\n",
        "\n",
        "    tree[i] = tree[i << 1] | tree[i << 1 | 1]\n",
        "    while len(tree[i]) > 5:\n",
        "        (tree[i]).remove(min(tree[i]))\n",
        "\n",
        "\n",
        "def addValue(i, val):\n",
        "    tmp = {()}\n",
        "    tmp.clear()\n",
        "    while len(tree[i]) > 0:\n",
        "        v_tmp = tree[i].pop()\n",
        "        tmp.add((v_tmp[0] + val, v_tmp[1]))\n",
        "    return tmp\n",
        "\n",
        "\n",
        "def down(i):\n",
        "    lazy[i << 1] += lazy[i]\n",
        "    lazy[i << 1 | 1] += lazy[i]\n",
        "\n",
        "    tree[i<<1] = addValue(i << 1, lazy[i])\n",
        "    tree[i<<1|1] = addValue(i << 1 | 1, lazy[i])\n",
        "\n",
        "    lazy[i] = 0\n",
        "\n",
        "\n",
        "def update(i, l, r, u, v, val):\n",
        "    if l > v or r < u:\n",
        "        return\n",
        "    if u <= l and r <= v:\n",
        "        lazy[i] += val\n",
        "        tree[i] = addValue(i, val)\n",
        "        return\n",
        "\n",
        "    m = (l + r) >> 1\n",
        "    if lazy[i]!=0:\n",
        "        down(i)\n",
        "    update(i << 1, l, m, u, v, val)\n",
        "    update(i << 1 | 1, m + 1, r, u, v, val)\n",
        "\n",
        "    tree[i] = tree[i << 1] | tree[i << 1 | 1]\n",
        "    while len(tree[i]) > 5:\n",
        "        (tree[i]).remove(min(tree[i]))\n",
        "\n",
        "\n",
        "build(1, 1, n)\n",
        "for query_ in range(q):\n",
        "    inp_ = input().split()\n",
        "    typ = int(inp_[0])\n",
        "    if typ == 1:\n",
        "        lef = int(inp_[1])\n",
        "        rig = int(inp_[2])\n",
        "        val = int(inp_[3])\n",
        "        update(1, 1, n, lef, rig, val)\n",
        "    else:\n",
        "        k = int(inp_[1])\n",
        "        seg = sorted(tree[1], reverse=True)\n",
        "        for i in range(min(k, n)):\n",
        "            print(seg[i][1], end=' ')\n",
        "        print()"
      ],
      "execution_count": null,
      "outputs": []
    },
    {
      "cell_type": "markdown",
      "metadata": {
        "id": "mPhrGsOfSXeG"
      },
      "source": [
        "**Bài 4: Splitting carrots**\n",
        "\n",
        "Gọi S là tổng khối lượng của N củ cà rốt.\n",
        "\n",
        "Trường hợp 0: S % 2 != 0\n",
        "\n",
        "Rõ ràng không tồn tại cách chia ra 2 phần bằng nhau. Vậy đáp án là X = 0.\n",
        "Trường hợp 1: S % 2 == 0 và tồn tại một số củ cà rốt có khối lượng lẽ\n",
        "\n",
        "Vậy nếu ta loại bỏ đi củ cà rốt này, thì những củ cà rốt còn lại sẽ không chia thành 2 phần bằng nhau, vậy đáp án là X = 1.\n",
        "Trường hợp 2: S % 2 == 0 và mọi củ cà rốt đều có khối lượng chẵn\n",
        "\n",
        "Ta có thể gọi quy hoạch động tương tự bài toán dãy con có tổng bằng S. Ở đây sẽ kiểm tra xem có thể tạo ra tổng S / 2 không, nếu như không thể tạo ra thì đáp án là X = 0, vì tập ban đầu không thể chia ra 2 phần bằng nhau. Câu hỏi đặt ra là ngược lại, nếu như tạo ra được tổng S / 2 thì làm cách nào để xem xét phần tử nào nên được xóa hay không tồn tại đáp án?\n",
        "\n",
        "Trả lời: Ta gọi A là tập N củ cà rốt ban đầu. B là tập N củ cà rốt nhưng mỗi củ cà rốt có giá trị chỉ bằng 1/2 so với A. Việc chia A ra thành 2 phần, mỗi phần có tổng S / 2, vì mọi củ cà rốt là chẵn nên S / 2 cũng chẵn. Suy ra cũng tồn tại cách chia B ra thành 2 phần bằng nhau, mỗi phần có tổng S / 4, và cách chia trên B cũng chính là cách chia trên A. Nếu như trên B tồn tại một củ cà rốt khối lượng lẽ, vậy ta đã xác định được phần tử cần xóa (đây tương tự như trường hợp 1). Nếu như trên B không có củ cà rốt nào khối lượng lẽ, vậy ta sẽ áp dụng tương tự, tìm một mảng C có khối lượng 1/2 khối lượng so với mảng B, ... cho đến khi tồn tại một củ cà rốt khối lượng lẽ.\n",
        "\n",
        "nguồn bài: https://codeforces.com/contest/1516/problem/C"
      ]
    },
    {
      "cell_type": "code",
      "metadata": {
        "colab": {
          "base_uri": "https://localhost:8080/"
        },
        "id": "M6Ss07wnSXuJ",
        "outputId": "00e8f82c-e924-4d9e-d0da-bc3a0afbd856"
      },
      "source": [
        "def check(arr, n) :\n",
        "   \n",
        "    leftSum = 0\n",
        "    for i in range(0, n) :\n",
        "        leftSum += arr[i]\n",
        "  \n",
        "    rightSum = 0\n",
        "    for i in range(n-1, -1, -1) :\n",
        "        rightSum += arr[i]    \n",
        "        leftSum -= arr[i]\n",
        "        if (rightSum == leftSum) :\n",
        "            return i\n",
        "    return -1\n",
        "\n",
        "def solve(arr, n,list1) :\n",
        "      ans = check(arr, n)\n",
        "      if ans == -1 or ans == n:\n",
        "         print(0)\n",
        "      else:\n",
        "        num = 0\n",
        "        while True:\n",
        "          for i in range (n):\n",
        "              temp = arr[i]\n",
        "              arr[i] = 0\n",
        "              if check(arr,n) == -1:\n",
        "                num = num + 1\n",
        "                list1.append(temp)\n",
        "                False\n",
        "              else:\n",
        "                arr[i] = temp\n",
        "                list1.append(arr[i])\n",
        "                arr[num] =0\n",
        "                num = num + 1\n",
        "\n",
        "        print(*list1)\n",
        "        print(num)\n",
        "  \n",
        "\n",
        "n = int(input())\n",
        "a=[int(x) for x in input().split()]\n",
        "list1 = [0]*15\n",
        "solve(a, n,list1)"
      ],
      "execution_count": 11,
      "outputs": [
        {
          "output_type": "stream",
          "text": [
            "4\n",
            "2 4 6 8\n",
            "0\n"
          ],
          "name": "stdout"
        }
      ]
    },
    {
      "cell_type": "markdown",
      "metadata": {
        "id": "aHbz6lN2SX9N"
      },
      "source": [
        "**Bài 5**\n",
        "\n",
        "Vì không mất tính tổng quát, ta có thể giả sử N <= M.\n",
        "\n",
        "Ta gọi mỗi cấu hình là một cách gán cho mỗi phần tử trong B giá trị [0, 1] tương ứng\n",
        "\n",
        "Tiếp cận 1\n",
        "\n",
        "Ta có thể sinh ra toàn bộ cấu hình có thể có ở cột 1. Có tất cả 2^N cấu hình. Với mỗi cấu hình thì từ đó có thể tính ra cột 2, 3, ..., M, kiểm tra xem có thỏa mãn mảng A hay không, từ đó tìm ra nghiệm. Độ phức tạp ~O(2^N.N.M). Dễ thấy là N > 20 thì độ phức tạp của bài toán sẽ lớn, không giải quyết được hoàn toàn.\n",
        "Tiếp cận 2\n",
        "\n",
        "Nếu như A[x, y] = 0 hoặc A[x, y] = 4 thì rõ ràng, ta xác định được các giá trị B tương ứng, bởi chỉ có một cấu hình duy nhất.\n",
        "\n",
        "Từ đó vấn đề bây giờ chỉ cần giải quyết với các A[x, y] = 1, 2 hoặc 3. Đây có thể là nhánh cận để áp dụng giải quyết bài toán từ tiếp cận 1. Nhưng không đảm bảo là giải quyết được bài toán!\n",
        "\n",
        "Tiếp cận 3\n",
        "\n",
        "Ta sử dụng quay lui, tại bước thứ i, giả sử ta biết được các ô B[1, 1..i] và B[1..i, 1], từ đây ta sẽ tính được các ô B(x, y) thỏa mãn (x + y <= 1 + i) và đồng thời kiểm tra được xem tại bước thứ i này thỏa mãn ko. Nếu thỏa mãn thì đi tiếp đến bước thứ i + 1, ngược lại thì quay lui.\n",
        "\n",
        "Việc tính toán và kiểm tra từng bước như cách tiếp cận này, là phương pháp quay lui có nhánh cận, từ đó giảm thiểu việc tính ra những cấu hình không thỏa mãn. Bởi bài toán luôn tồn tại đáp án nên việc tìm ra đáp án với cách tiếp cận này là nhanh chóng.\n",
        "\n",
        "Một bài tương tự https://oj.vnoi.info/problem/nkmines"
      ]
    },
    {
      "cell_type": "code",
      "metadata": {
        "id": "LnN5AfgGSYLB"
      },
      "source": [
        "n, m = map(int, input().split())\n",
        "a = [[int(0) for j in range(m)] for i in range(n)]\n",
        "b = [[int(j) for j in input().split()] for i in range(n)]\n",
        "pt = [0,0]\n",
        "\n",
        "def nex(i,j):\n",
        "    s= 0\n",
        "    if i>0:\n",
        "        s+=a[i-1][j]\n",
        "    if i<n-1:\n",
        "        s+=a[i+1][j]\n",
        "    if j>0:\n",
        "        s+=a[i][j-1]\n",
        "    if j<m-1:\n",
        "        s+=a[i][j+1]\n",
        "    return s\n",
        "\n",
        "def check():\n",
        "    for i in range(1,n):\n",
        "        for j in range(m):\n",
        "            tmp = nex(i-1,j)-a[i][j]\n",
        "            a[i][j] = b[i-1][j] - tmp\n",
        "            if a[i][j]<0 or a[i][j]>2:\n",
        "                return 0\n",
        "            if nex(i-1,j)!=b[i-1][j]:\n",
        "                return 0\n",
        "    for i in range(n):\n",
        "        for j in range(m):\n",
        "            if nex(i,j)!=b[i][j]:\n",
        "                return 0\n",
        "    return 1\n",
        "\n",
        "def print():\n",
        "    for i in range(n):\n",
        "        for j in range(m):\n",
        "            print(a[i][j], end = ' ')\n",
        "        print()\n",
        "\n",
        "def solve(u, v):\n",
        "    if pt[0] : \n",
        "        return\n",
        "    for i in range(2):\n",
        "        if pt[0] : \n",
        "            return\n",
        "        a[u][v] = i\n",
        "        if v>0 and b[u][v]-a[u][v-1]<0:\n",
        "            continue\n",
        "        if u==0 and v==m-1:\n",
        "            pt[0] = check()\n",
        "            if pt[0]:\n",
        "                print()\n",
        "        else:\n",
        "            if (u>0):\n",
        "                solve(u-1,v)\n",
        "            else:\n",
        "                solve(u,v+1)\n",
        "\n",
        "\n",
        "\n",
        "solve(0,0)"
      ],
      "execution_count": null,
      "outputs": []
    }
  ]
}

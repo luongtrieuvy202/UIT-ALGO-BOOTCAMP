{
  "nbformat": 4,
  "nbformat_minor": 0,
  "metadata": {
    "colab": {
      "name": "Untitled4.ipynb",
      "provenance": [],
      "collapsed_sections": []
    },
    "kernelspec": {
      "name": "python3",
      "display_name": "Python 3"
    },
    "language_info": {
      "name": "python"
    }
  },
  "cells": [
    {
      "cell_type": "markdown",
      "metadata": {
        "id": "uNPPPrvg5Di2"
      },
      "source": [
        "**VW05p_Enrichement**\n",
        "\n",
        "Tóm tắt đề bài\n",
        "Cho ma trận a kích thước $n \\times m$ ($n, m \\leq 3, n \\times m \\leq 10^6$), và $0 \\leq a[i] \\leq 10^5$. Tìm ma trận có kích thước $3 \\times 3$ có tổng nhỏ nhất.\n",
        "\n",
        "**Ý tưởng**:\n",
        "\n",
        "Dùng vét cạn duyệt qua hết tất cả các ma trận có kích thước $3 \\times 3$, lấy min mỗi lần duyệt tới."
      ]
    },
    {
      "cell_type": "code",
      "metadata": {
        "id": "miUmEMzl5Xxd"
      },
      "source": [
        "n, m = map(int, input().split())\n",
        "\n",
        "matrix = [[0]]\n",
        "\n",
        "for i in range(1,n+1):\n",
        "  matrix.append([0])\n",
        "  a[i][1:(m+1)] = map(int , intput().split())\n",
        "\n",
        "ans = 1e5\n",
        "\n",
        "for i in range(1,n+1-2):\n",
        "  for j in range (1,m+1-2):\n",
        "    tong =0\n",
        "    for k in range(i,i+1+2):\n",
        "      for l in range(j,j+1+2):\n",
        "        ans+= matrix[k][l]\n",
        "\n",
        "      ans = min(ans,tong)\n",
        "\n",
        "print(ans)"
      ],
      "execution_count": null,
      "outputs": []
    },
    {
      "cell_type": "markdown",
      "metadata": {
        "id": "e5S_NodG7byN"
      },
      "source": [
        "**VW04p_Checkout**\n",
        "\n",
        "Tóm tắt đề bài\n",
        "Cho:\n",
        "\n",
        "$d:$ Quãng đường\n",
        "$a_1:$ gia tốc tăng\n",
        "$v_{max}:$ vận tốc tối đa được cho phép\n",
        "$t:$ thời gian tối thiểu duy trì vận tốc cao nhất\n",
        "Tìm thời gian $t_{min}$ mà để hoàn thành quãng đường\n",
        "\n",
        "**Ý tưởng**:\n",
        "\n",
        "Dễ dàng nhận ra vận tốc càng lớn thì thời gian càng thấp nên ta cần tối ưu vận tốc cao nhất là v\n",
        "Nếu vận tốc cao nhât của ta là v thì ta có công thức như sau: $\\frac{v ^ 2}{2a_1} + t \\times v + \\frac{v ^2}{2a_2} = d$\n",
        "\n",
        "Từ số liệu đã cho thì ta dễ dàng giải phương trình bậc 2 trên và tìm được v. Lúc này ta có 2 trường hợp\n",
        "\n",
        "Nếu $v \\leq v_{max}$ thì $t_{min} = \\frac{v}{a1} + \\frac{v}{a2} + t$\n",
        "\n",
        "Nếu $v > v_{max}$ thì $t_{min} = \\frac{D}{vmax} + \\frac{vmax}{2 \\times a_{1}}+ \\frac{vmax}{2 \\times a2}$"
      ]
    },
    {
      "cell_type": "code",
      "metadata": {
        "id": "KNNiyAm98AFM"
      },
      "source": [
        "import math\n",
        "\n",
        "d,a1,a2,v,t = map(float,input().split())\n",
        "\n",
        "a= 1/(2*a1) +1/(2*a2)\n",
        "\n",
        "x = (-t + math.sqrt(t*t + 4*d*a))/ (2*a)\n",
        "\n",
        "if x > v:\n",
        "  ans = d/v + v/(2*a1) + v/(2*a2)\n",
        "else:\n",
        "  ans = x/a1 + x/a2 + t\n",
        "\n",
        "\n",
        "print(round(ans,12))"
      ],
      "execution_count": null,
      "outputs": []
    },
    {
      "cell_type": "markdown",
      "metadata": {
        "id": "josnsL1y89M2"
      },
      "source": [
        "**VW07p_Vitamin**\n",
        "Tóm tắt đề bài\n",
        "Cho dãy số nguyên dương a độ dài n $(a_i \\leq 1000)$ và số nguyên dương X $(X \\leq 10^6)$. Có\n",
        "\n",
        "$S_i=a_1+a_2+...+a_i$ với $i \\leq n$\n",
        "\n",
        "$S_i=S_n+(i-n) \\times a_n$ với $i > n$\n",
        "Chọn $S_i$ sẽ tốn i bước\n",
        "Từ lần chọn thứ 2 trở lên mỗi lần chọn mất thêm 1 bước\n",
        "Có tồn tại tổ hợp lặp của S sao cho tổng bằng X. Nếu tồn tại in ra trường hợp số bước nhỏ nhất, ngược lại in ra -1\n",
        "\n",
        "**Ý tưởng**:\n",
        "\n",
        "Quy hoạch động\n",
        "\n",
        "Gọi $f[i]$ là giá trị nhỏ nhất để đạt được $X - i$, $f[0]$ là kết quả của bài toán\n",
        "\n",
        "Ban đầu ta có $f[i]$ = +$\\infty$ $(0 \\leq i \\leq x - 1)$, $f[x] = 0$\n",
        "\n",
        "Ban đầu ta tối ưu $f[i]$ mà không dùng dùng $S_i$ ($i > n$) bằng cách: Nếu $f[i]$ có cách chọn thì với mỗi $s[i]$ ta minize $f[i - s[i]]$ thì sẽ có giá trị tối ưu của $f[i - s[i]]$\n",
        "\n",
        "Sau đó ta dùng tiếp điều kiện $S_i=S_n+(i-n) \\times a_n$ với $i > n$. Với kết quả tối ưu ở trước ta dễ dàng tối ưu được $f[0]$ nếu $i - S[n]$ chia hết cho $a[n]$ thì ta minimize $f[0]$ với $f[i] + n + \\frac{i - S[n]}{a[n]} + 1$"
      ]
    },
    {
      "cell_type": "code",
      "metadata": {
        "id": "Crn05gm99UDQ"
      },
      "source": [
        "n, X = map(int, input().split())\n",
        "dp = [0]\n",
        "dp[1:n+1] = map(int, input().split())\n",
        "\n",
        "for i in range(1, n + 1):\n",
        "  dp[i] += dp[i - 1]\n",
        "\n",
        "mt = [int(1e9) for x in range(X+1)]\n",
        "mt[X] = 0\n",
        "\n",
        "val = dp[n] - dp[n - 1]\n",
        "\n",
        "for i in range(n, 1 - 1, -1):\n",
        "  for j in range(X, 0 - 1, -1):\n",
        "    if (mt[j] == 1e9) or (j - dp[i] < 0): \n",
        "      continue\n",
        "    mt[j - dp[i]] = min(mt[j - dp[i]], mt[j] + i + 1)\n",
        "\n",
        "for j in range(X, 0 - 1, -1):\n",
        "  if(mt[j] == 1e9):\n",
        "    continue\n",
        "  if((j - dp[n] >= 0) and (j - dp[n]) % val == 0):\n",
        "    mt[0] = min(mt[0], mt[j] + n + 1 + (j - dp[n]) // val)\n",
        "\n",
        "if(mt[0] == 1e9):\n",
        "  print(-1)\n",
        "else:\n",
        "  print(mt[0] - 1)"
      ],
      "execution_count": null,
      "outputs": []
    }
  ]
}
